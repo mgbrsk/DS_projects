{
 "cells": [
  {
   "cell_type": "code",
   "execution_count": 91,
   "metadata": {},
   "outputs": [],
   "source": [
    "import pandas as pd\n",
    "from sklearn.feature_extraction.text import CountVectorizer\n",
    "from sklearn.preprocessing import LabelEncoder, StandardScaler\n",
    "from sklearn.model_selection import train_test_split\n",
    "from sklearn.linear_model import LogisticRegression, Perceptron\n",
    "import numpy as np\n",
    "from sklearn.metrics import accuracy_score\n",
    "import xgboost as xgb\n",
    "%matplotlib inline\n",
    "import seaborn as sns\n",
    "import matplotlib.pyplot as plt\n",
    "import re"
   ]
  },
  {
   "cell_type": "code",
   "execution_count": 50,
   "metadata": {},
   "outputs": [
    {
     "name": "stderr",
     "output_type": "stream",
     "text": [
      "D:\\Anaconda3\\lib\\site-packages\\IPython\\core\\interactiveshell.py:3063: DtypeWarning: Columns (13,14,15) have mixed types.Specify dtype option on import or set low_memory=False.\n",
      "  interactivity=interactivity, compiler=compiler, result=result)\n"
     ]
    }
   ],
   "source": [
    "d1 = pd.read_csv('ks-projects-201612.csv', encoding='cp1251')\n",
    "d2 = pd.read_csv('ks-projects-201801.csv')"
   ]
  },
  {
   "cell_type": "markdown",
   "metadata": {},
   "source": [
    "ID: internal kickstarter id\n",
    "name: name of project - A project is a finite work with a clear goal that you’d like to bring to life. Think albums, books, or films.\n",
    "category: category\n",
    "main_category: category of campaign\n",
    "currency: currency used to support\n",
    "deadline: deadline for crowdfunding\n",
    "goal fundraising goal - The funding goal is the amount of money that a creator needs to complete their project.\n",
    "launched: date launched\n",
    "pledged: amount pledged by \"crowd\"\n",
    "state: Current condition the project is in\n",
    "backers: number of backers\n",
    "country: country pledged from\n",
    "usd pledged: amount of money pledged\n",
    "usd_pledged_real: Pledged amount in USD (conversion made by fixer.io api)\n",
    "usd_goal_real: Goal amount in USD\n"
   ]
  },
  {
   "cell_type": "markdown",
   "metadata": {},
   "source": [
    "Синтетические данные:\n",
    "1. Продолжительность сбора\n",
    "2. Валюта, приведённая к доллару\n",
    "3. Вклад одного бейкера\n",
    "4. Мешок слов для названия\n",
    "5. Количество прописных букв - count_A\n",
    "6. Количество слов - word_count"
   ]
  },
  {
   "cell_type": "code",
   "execution_count": 56,
   "metadata": {},
   "outputs": [
    {
     "data": {
      "text/html": [
       "<div>\n",
       "<style scoped>\n",
       "    .dataframe tbody tr th:only-of-type {\n",
       "        vertical-align: middle;\n",
       "    }\n",
       "\n",
       "    .dataframe tbody tr th {\n",
       "        vertical-align: top;\n",
       "    }\n",
       "\n",
       "    .dataframe thead th {\n",
       "        text-align: right;\n",
       "    }\n",
       "</style>\n",
       "<table border=\"1\" class=\"dataframe\">\n",
       "  <thead>\n",
       "    <tr style=\"text-align: right;\">\n",
       "      <th></th>\n",
       "      <th>usd_goal_real</th>\n",
       "      <th>word_count</th>\n",
       "      <th>uppercase_count</th>\n",
       "    </tr>\n",
       "  </thead>\n",
       "  <tbody>\n",
       "    <tr>\n",
       "      <th>0</th>\n",
       "      <td>1533.95</td>\n",
       "      <td>6</td>\n",
       "      <td>4</td>\n",
       "    </tr>\n",
       "    <tr>\n",
       "      <th>1</th>\n",
       "      <td>30000.00</td>\n",
       "      <td>8</td>\n",
       "      <td>12</td>\n",
       "    </tr>\n",
       "    <tr>\n",
       "      <th>2</th>\n",
       "      <td>45000.00</td>\n",
       "      <td>3</td>\n",
       "      <td>2</td>\n",
       "    </tr>\n",
       "    <tr>\n",
       "      <th>3</th>\n",
       "      <td>5000.00</td>\n",
       "      <td>7</td>\n",
       "      <td>7</td>\n",
       "    </tr>\n",
       "    <tr>\n",
       "      <th>4</th>\n",
       "      <td>19500.00</td>\n",
       "      <td>8</td>\n",
       "      <td>7</td>\n",
       "    </tr>\n",
       "    <tr>\n",
       "      <th>...</th>\n",
       "      <td>...</td>\n",
       "      <td>...</td>\n",
       "      <td>...</td>\n",
       "    </tr>\n",
       "    <tr>\n",
       "      <th>378656</th>\n",
       "      <td>50000.00</td>\n",
       "      <td>6</td>\n",
       "      <td>6</td>\n",
       "    </tr>\n",
       "    <tr>\n",
       "      <th>378657</th>\n",
       "      <td>1500.00</td>\n",
       "      <td>2</td>\n",
       "      <td>2</td>\n",
       "    </tr>\n",
       "    <tr>\n",
       "      <th>378658</th>\n",
       "      <td>15000.00</td>\n",
       "      <td>11</td>\n",
       "      <td>5</td>\n",
       "    </tr>\n",
       "    <tr>\n",
       "      <th>378659</th>\n",
       "      <td>15000.00</td>\n",
       "      <td>3</td>\n",
       "      <td>4</td>\n",
       "    </tr>\n",
       "    <tr>\n",
       "      <th>378660</th>\n",
       "      <td>2000.00</td>\n",
       "      <td>7</td>\n",
       "      <td>6</td>\n",
       "    </tr>\n",
       "  </tbody>\n",
       "</table>\n",
       "<p>378661 rows × 3 columns</p>\n",
       "</div>"
      ],
      "text/plain": [
       "        usd_goal_real  word_count  uppercase_count\n",
       "0             1533.95           6                4\n",
       "1            30000.00           8               12\n",
       "2            45000.00           3                2\n",
       "3             5000.00           7                7\n",
       "4            19500.00           8                7\n",
       "...               ...         ...              ...\n",
       "378656       50000.00           6                6\n",
       "378657        1500.00           2                2\n",
       "378658       15000.00          11                5\n",
       "378659       15000.00           3                4\n",
       "378660        2000.00           7                6\n",
       "\n",
       "[378661 rows x 3 columns]"
      ]
     },
     "execution_count": 56,
     "metadata": {},
     "output_type": "execute_result"
    }
   ],
   "source": [
    "def uppercase_count(x):\n",
    "    return len(re.findall(r'[A-Z]', x))\n",
    "\n",
    "def word_count(x):\n",
    "    return len(re.findall(r' ', x)) + 1\n",
    "\n",
    "d3 = d2[['usd_goal_real']].copy(deep=True)\n",
    "d3['word_count'] = d2['name'].transform(lambda x: word_count(str(x)))\n",
    "d3['uppercase_count'] = d2['name'].transform(lambda x: uppercase_count(str(x)))\n",
    "d3"
   ]
  },
  {
   "cell_type": "code",
   "execution_count": 57,
   "metadata": {},
   "outputs": [],
   "source": [
    "arr = ['category', 'main_category', 'currency', 'state', 'country']\n",
    "for i in arr:\n",
    "    le = LabelEncoder()\n",
    "    d3[i] = le.fit_transform(d2[i])"
   ]
  },
  {
   "cell_type": "code",
   "execution_count": 59,
   "metadata": {},
   "outputs": [],
   "source": [
    "d3['name'] = d2['name'].apply(lambda x: len(str(x)))"
   ]
  },
  {
   "cell_type": "code",
   "execution_count": 61,
   "metadata": {},
   "outputs": [],
   "source": [
    "d2['deadline'] = pd.to_datetime(d2['deadline'])\n",
    "d2['launched'] = pd.to_datetime(d2['launched'])"
   ]
  },
  {
   "cell_type": "code",
   "execution_count": 62,
   "metadata": {},
   "outputs": [],
   "source": [
    "type(d2['deadline'].iloc[0])\n",
    "d2['newdatetime'] = abs(d2['deadline'] - d2['launched'])"
   ]
  },
  {
   "cell_type": "code",
   "execution_count": 63,
   "metadata": {},
   "outputs": [],
   "source": [
    "type(d2['newdatetime'].iloc[0])\n",
    "d3['duration'] = d2['newdatetime'].apply(lambda x: x.days)"
   ]
  },
  {
   "cell_type": "code",
   "execution_count": 10,
   "metadata": {},
   "outputs": [],
   "source": [
    "d2.drop(columns=['deadline', 'launched', 'newdatetime'], inplace=True)\n",
    "#d2.drop(columns=['ID', 'pledged', 'backers', 'usd pledged', 'usd_pledged_real', 'usd_goal_real'], inplace=True)\n",
    "d2.drop(columns=['pledged', 'backers', 'usd pledged', 'usd_pledged_real', 'usd_goal_real'], inplace=True)"
   ]
  },
  {
   "cell_type": "code",
   "execution_count": 65,
   "metadata": {},
   "outputs": [
    {
     "data": {
      "text/html": [
       "<div>\n",
       "<style scoped>\n",
       "    .dataframe tbody tr th:only-of-type {\n",
       "        vertical-align: middle;\n",
       "    }\n",
       "\n",
       "    .dataframe tbody tr th {\n",
       "        vertical-align: top;\n",
       "    }\n",
       "\n",
       "    .dataframe thead th {\n",
       "        text-align: right;\n",
       "    }\n",
       "</style>\n",
       "<table border=\"1\" class=\"dataframe\">\n",
       "  <thead>\n",
       "    <tr style=\"text-align: right;\">\n",
       "      <th></th>\n",
       "      <th>usd_goal_real</th>\n",
       "      <th>word_count</th>\n",
       "      <th>uppercase_count</th>\n",
       "      <th>category</th>\n",
       "      <th>main_category</th>\n",
       "      <th>currency</th>\n",
       "      <th>state</th>\n",
       "      <th>country</th>\n",
       "      <th>name</th>\n",
       "      <th>duration</th>\n",
       "    </tr>\n",
       "  </thead>\n",
       "  <tbody>\n",
       "    <tr>\n",
       "      <th>0</th>\n",
       "      <td>1533.95</td>\n",
       "      <td>6</td>\n",
       "      <td>4</td>\n",
       "      <td>108</td>\n",
       "      <td>12</td>\n",
       "      <td>5</td>\n",
       "      <td>1</td>\n",
       "      <td>9</td>\n",
       "      <td>31</td>\n",
       "      <td>58</td>\n",
       "    </tr>\n",
       "    <tr>\n",
       "      <th>1</th>\n",
       "      <td>30000.00</td>\n",
       "      <td>8</td>\n",
       "      <td>12</td>\n",
       "      <td>93</td>\n",
       "      <td>6</td>\n",
       "      <td>13</td>\n",
       "      <td>1</td>\n",
       "      <td>22</td>\n",
       "      <td>45</td>\n",
       "      <td>59</td>\n",
       "    </tr>\n",
       "    <tr>\n",
       "      <th>2</th>\n",
       "      <td>45000.00</td>\n",
       "      <td>3</td>\n",
       "      <td>2</td>\n",
       "      <td>93</td>\n",
       "      <td>6</td>\n",
       "      <td>13</td>\n",
       "      <td>1</td>\n",
       "      <td>22</td>\n",
       "      <td>14</td>\n",
       "      <td>44</td>\n",
       "    </tr>\n",
       "    <tr>\n",
       "      <th>3</th>\n",
       "      <td>5000.00</td>\n",
       "      <td>7</td>\n",
       "      <td>7</td>\n",
       "      <td>90</td>\n",
       "      <td>10</td>\n",
       "      <td>13</td>\n",
       "      <td>1</td>\n",
       "      <td>22</td>\n",
       "      <td>49</td>\n",
       "      <td>29</td>\n",
       "    </tr>\n",
       "    <tr>\n",
       "      <th>4</th>\n",
       "      <td>19500.00</td>\n",
       "      <td>8</td>\n",
       "      <td>7</td>\n",
       "      <td>55</td>\n",
       "      <td>6</td>\n",
       "      <td>13</td>\n",
       "      <td>0</td>\n",
       "      <td>22</td>\n",
       "      <td>58</td>\n",
       "      <td>55</td>\n",
       "    </tr>\n",
       "    <tr>\n",
       "      <th>...</th>\n",
       "      <td>...</td>\n",
       "      <td>...</td>\n",
       "      <td>...</td>\n",
       "      <td>...</td>\n",
       "      <td>...</td>\n",
       "      <td>...</td>\n",
       "      <td>...</td>\n",
       "      <td>...</td>\n",
       "      <td>...</td>\n",
       "      <td>...</td>\n",
       "    </tr>\n",
       "    <tr>\n",
       "      <th>378656</th>\n",
       "      <td>50000.00</td>\n",
       "      <td>6</td>\n",
       "      <td>6</td>\n",
       "      <td>39</td>\n",
       "      <td>6</td>\n",
       "      <td>13</td>\n",
       "      <td>0</td>\n",
       "      <td>22</td>\n",
       "      <td>49</td>\n",
       "      <td>29</td>\n",
       "    </tr>\n",
       "    <tr>\n",
       "      <th>378657</th>\n",
       "      <td>1500.00</td>\n",
       "      <td>2</td>\n",
       "      <td>2</td>\n",
       "      <td>93</td>\n",
       "      <td>6</td>\n",
       "      <td>13</td>\n",
       "      <td>1</td>\n",
       "      <td>22</td>\n",
       "      <td>9</td>\n",
       "      <td>26</td>\n",
       "    </tr>\n",
       "    <tr>\n",
       "      <th>378658</th>\n",
       "      <td>15000.00</td>\n",
       "      <td>11</td>\n",
       "      <td>5</td>\n",
       "      <td>93</td>\n",
       "      <td>6</td>\n",
       "      <td>13</td>\n",
       "      <td>1</td>\n",
       "      <td>22</td>\n",
       "      <td>71</td>\n",
       "      <td>45</td>\n",
       "    </tr>\n",
       "    <tr>\n",
       "      <th>378659</th>\n",
       "      <td>15000.00</td>\n",
       "      <td>3</td>\n",
       "      <td>4</td>\n",
       "      <td>138</td>\n",
       "      <td>13</td>\n",
       "      <td>13</td>\n",
       "      <td>1</td>\n",
       "      <td>22</td>\n",
       "      <td>24</td>\n",
       "      <td>30</td>\n",
       "    </tr>\n",
       "    <tr>\n",
       "      <th>378660</th>\n",
       "      <td>2000.00</td>\n",
       "      <td>7</td>\n",
       "      <td>6</td>\n",
       "      <td>98</td>\n",
       "      <td>0</td>\n",
       "      <td>13</td>\n",
       "      <td>1</td>\n",
       "      <td>22</td>\n",
       "      <td>33</td>\n",
       "      <td>27</td>\n",
       "    </tr>\n",
       "  </tbody>\n",
       "</table>\n",
       "<p>378661 rows × 10 columns</p>\n",
       "</div>"
      ],
      "text/plain": [
       "        usd_goal_real  word_count  uppercase_count  category  main_category  \\\n",
       "0             1533.95           6                4       108             12   \n",
       "1            30000.00           8               12        93              6   \n",
       "2            45000.00           3                2        93              6   \n",
       "3             5000.00           7                7        90             10   \n",
       "4            19500.00           8                7        55              6   \n",
       "...               ...         ...              ...       ...            ...   \n",
       "378656       50000.00           6                6        39              6   \n",
       "378657        1500.00           2                2        93              6   \n",
       "378658       15000.00          11                5        93              6   \n",
       "378659       15000.00           3                4       138             13   \n",
       "378660        2000.00           7                6        98              0   \n",
       "\n",
       "        currency  state  country  name  duration  \n",
       "0              5      1        9    31        58  \n",
       "1             13      1       22    45        59  \n",
       "2             13      1       22    14        44  \n",
       "3             13      1       22    49        29  \n",
       "4             13      0       22    58        55  \n",
       "...          ...    ...      ...   ...       ...  \n",
       "378656        13      0       22    49        29  \n",
       "378657        13      1       22     9        26  \n",
       "378658        13      1       22    71        45  \n",
       "378659        13      1       22    24        30  \n",
       "378660        13      1       22    33        27  \n",
       "\n",
       "[378661 rows x 10 columns]"
      ]
     },
     "execution_count": 65,
     "metadata": {},
     "output_type": "execute_result"
    }
   ],
   "source": [
    "d3"
   ]
  },
  {
   "cell_type": "code",
   "execution_count": 66,
   "metadata": {},
   "outputs": [
    {
     "data": {
      "text/plain": [
       "<matplotlib.axes._subplots.AxesSubplot at 0x25bd07c8a48>"
      ]
     },
     "execution_count": 66,
     "metadata": {},
     "output_type": "execute_result"
    },
    {
     "data": {
      "image/png": "[encoded data removed]",
      "text/plain": [
       "<Figure size 432x288 with 2 Axes>"
      ]
     },
     "metadata": {
      "needs_background": "light"
     },
     "output_type": "display_data"
    }
   ],
   "source": [
    "sns.heatmap(d3.corr())"
   ]
  },
  {
   "cell_type": "code",
   "execution_count": 81,
   "metadata": {},
   "outputs": [],
   "source": [
    "y = d3['state']\n",
    "X = d3.drop(columns=['state'])"
   ]
  },
  {
   "cell_type": "code",
   "execution_count": 84,
   "metadata": {},
   "outputs": [
    {
     "data": {
      "text/plain": [
       "XGBClassifier(base_score=0.5, booster='gbtree', colsample_bylevel=1,\n",
       "              colsample_bynode=1, colsample_bytree=1, gamma=0,\n",
       "              learning_rate=0.1, max_delta_step=0, max_depth=3,\n",
       "              min_child_weight=1, missing=None, n_estimators=100, n_jobs=-1,\n",
       "              nthread=None, objective='multi:softprob', random_state=0,\n",
       "              reg_alpha=0, reg_lambda=1, scale_pos_weight=1, seed=None,\n",
       "              silent=None, subsample=1, verbosity=1)"
      ]
     },
     "execution_count": 84,
     "metadata": {},
     "output_type": "execute_result"
    }
   ],
   "source": [
    "X_train, X_test, y_train, y_test = train_test_split(X, y, test_size=0.33, random_state=101)\n",
    "mod = xgb.XGBClassifier(n_jobs=-1)\n",
    "mod.fit(X_train, y_train)\n"
   ]
  },
  {
   "cell_type": "code",
   "execution_count": 87,
   "metadata": {},
   "outputs": [
    {
     "name": "stderr",
     "output_type": "stream",
     "text": [
      "D:\\Anaconda3\\lib\\site-packages\\sklearn\\linear_model\\_logistic.py:940: ConvergenceWarning: lbfgs failed to converge (status=1):\n",
      "STOP: TOTAL NO. of ITERATIONS REACHED LIMIT.\n",
      "\n",
      "Increase the number of iterations (max_iter) or scale the data as shown in:\n",
      "    https://scikit-learn.org/stable/modules/preprocessing.html\n",
      "Please also refer to the documentation for alternative solver options:\n",
      "    https://scikit-learn.org/stable/modules/linear_model.html#logistic-regression\n",
      "  extra_warning_msg=_LOGISTIC_SOLVER_CONVERGENCE_MSG)\n"
     ]
    },
    {
     "data": {
      "text/plain": [
       "array([3, 1, 1, ..., 3, 3, 1])"
      ]
     },
     "execution_count": 87,
     "metadata": {},
     "output_type": "execute_result"
    }
   ],
   "source": [
    "LogRes = LogisticRegression(random_state=0)\n",
    "LogRes.fit(X_train, y_train)\n",
    "ylr_pred = LogRes.predict(X_test)\n",
    "ylr_pred"
   ]
  },
  {
   "cell_type": "code",
   "execution_count": 89,
   "metadata": {},
   "outputs": [
    {
     "name": "stdout",
     "output_type": "stream",
     "text": [
      "Accuracy for Logistic Regression: 54.39%\n"
     ]
    }
   ],
   "source": [
    "accuracy_lr = accuracy_score(y_test, ylr_pred)\n",
    "print(\"Accuracy for Logistic Regression: %.2f%%\" % (accuracy_lr * 100.0))"
   ]
  },
  {
   "cell_type": "code",
   "execution_count": 92,
   "metadata": {},
   "outputs": [
    {
     "name": "stdout",
     "output_type": "stream",
     "text": [
      "Accuracy for Perceptron: 39.81%\n"
     ]
    }
   ],
   "source": [
    "per = Perceptron(random_state=101)\n",
    "per.fit(X_train, y_train)\n",
    "yper_pred = per.predict(X_test)\n",
    "accuracy_per = accuracy_score(y_test, yper_pred)\n",
    "print(\"Accuracy for Perceptron: %.2f%%\" % (accuracy_per * 100.0))"
   ]
  },
  {
   "cell_type": "code",
   "execution_count": 85,
   "metadata": {},
   "outputs": [
    {
     "name": "stdout",
     "output_type": "stream",
     "text": [
      "Accuracy: 60.29%\n"
     ]
    }
   ],
   "source": [
    "y_pred = mod.predict(X_test)\n",
    "#predictions = [round(value) for value in y_pred]\n",
    "accuracy = accuracy_score(y_test, y_pred)\n",
    "print(\"Accuracy: %.2f%%\" % (accuracy * 100.0))"
   ]
  },
  {
   "cell_type": "markdown",
   "metadata": {},
   "source": [
    "Без нормализации Accuracy: 60.29%\n"
   ]
  },
  {
   "cell_type": "code",
   "execution_count": 76,
   "metadata": {},
   "outputs": [],
   "source": [
    "scaler = StandardScaler()\n",
    "X[['usd_goal_real']] = scaler.fit_transform(X[['usd_goal_real']])"
   ]
  },
  {
   "cell_type": "code",
   "execution_count": 83,
   "metadata": {},
   "outputs": [
    {
     "data": {
      "text/html": [
       "<div>\n",
       "<style scoped>\n",
       "    .dataframe tbody tr th:only-of-type {\n",
       "        vertical-align: middle;\n",
       "    }\n",
       "\n",
       "    .dataframe tbody tr th {\n",
       "        vertical-align: top;\n",
       "    }\n",
       "\n",
       "    .dataframe thead th {\n",
       "        text-align: right;\n",
       "    }\n",
       "</style>\n",
       "<table border=\"1\" class=\"dataframe\">\n",
       "  <thead>\n",
       "    <tr style=\"text-align: right;\">\n",
       "      <th></th>\n",
       "      <th>usd_goal_real</th>\n",
       "      <th>word_count</th>\n",
       "      <th>uppercase_count</th>\n",
       "      <th>category</th>\n",
       "      <th>main_category</th>\n",
       "      <th>currency</th>\n",
       "      <th>country</th>\n",
       "      <th>name</th>\n",
       "      <th>duration</th>\n",
       "    </tr>\n",
       "  </thead>\n",
       "  <tbody>\n",
       "    <tr>\n",
       "      <th>0</th>\n",
       "      <td>-0.038094</td>\n",
       "      <td>0.107251</td>\n",
       "      <td>-0.333803</td>\n",
       "      <td>0.603794</td>\n",
       "      <td>1.149121</td>\n",
       "      <td>-1.521145</td>\n",
       "      <td>-1.570995</td>\n",
       "      <td>-0.240707</td>\n",
       "      <td>0.372011</td>\n",
       "    </tr>\n",
       "    <tr>\n",
       "      <th>1</th>\n",
       "      <td>-0.013404</td>\n",
       "      <td>0.827225</td>\n",
       "      <td>1.257605</td>\n",
       "      <td>0.271263</td>\n",
       "      <td>-0.387483</td>\n",
       "      <td>0.506853</td>\n",
       "      <td>0.502239</td>\n",
       "      <td>0.638042</td>\n",
       "      <td>0.387183</td>\n",
       "    </tr>\n",
       "    <tr>\n",
       "      <th>2</th>\n",
       "      <td>-0.000394</td>\n",
       "      <td>-0.972710</td>\n",
       "      <td>-0.731655</td>\n",
       "      <td>0.271263</td>\n",
       "      <td>-0.387483</td>\n",
       "      <td>0.506853</td>\n",
       "      <td>0.502239</td>\n",
       "      <td>-1.307760</td>\n",
       "      <td>0.159597</td>\n",
       "    </tr>\n",
       "    <tr>\n",
       "      <th>3</th>\n",
       "      <td>-0.035088</td>\n",
       "      <td>0.467238</td>\n",
       "      <td>0.262975</td>\n",
       "      <td>0.204757</td>\n",
       "      <td>0.636920</td>\n",
       "      <td>0.506853</td>\n",
       "      <td>0.502239</td>\n",
       "      <td>0.889114</td>\n",
       "      <td>-0.067989</td>\n",
       "    </tr>\n",
       "    <tr>\n",
       "      <th>4</th>\n",
       "      <td>-0.022511</td>\n",
       "      <td>0.827225</td>\n",
       "      <td>0.262975</td>\n",
       "      <td>-0.571149</td>\n",
       "      <td>-0.387483</td>\n",
       "      <td>0.506853</td>\n",
       "      <td>0.502239</td>\n",
       "      <td>1.454024</td>\n",
       "      <td>0.326493</td>\n",
       "    </tr>\n",
       "    <tr>\n",
       "      <th>...</th>\n",
       "      <td>...</td>\n",
       "      <td>...</td>\n",
       "      <td>...</td>\n",
       "      <td>...</td>\n",
       "      <td>...</td>\n",
       "      <td>...</td>\n",
       "      <td>...</td>\n",
       "      <td>...</td>\n",
       "      <td>...</td>\n",
       "    </tr>\n",
       "    <tr>\n",
       "      <th>378656</th>\n",
       "      <td>0.003943</td>\n",
       "      <td>0.107251</td>\n",
       "      <td>0.064049</td>\n",
       "      <td>-0.925849</td>\n",
       "      <td>-0.387483</td>\n",
       "      <td>0.506853</td>\n",
       "      <td>0.502239</td>\n",
       "      <td>0.889114</td>\n",
       "      <td>-0.067989</td>\n",
       "    </tr>\n",
       "    <tr>\n",
       "      <th>378657</th>\n",
       "      <td>-0.038123</td>\n",
       "      <td>-1.332697</td>\n",
       "      <td>-0.731655</td>\n",
       "      <td>0.271263</td>\n",
       "      <td>-0.387483</td>\n",
       "      <td>0.506853</td>\n",
       "      <td>0.502239</td>\n",
       "      <td>-1.621599</td>\n",
       "      <td>-0.113507</td>\n",
       "    </tr>\n",
       "    <tr>\n",
       "      <th>378658</th>\n",
       "      <td>-0.026414</td>\n",
       "      <td>1.907186</td>\n",
       "      <td>-0.134877</td>\n",
       "      <td>0.271263</td>\n",
       "      <td>-0.387483</td>\n",
       "      <td>0.506853</td>\n",
       "      <td>0.502239</td>\n",
       "      <td>2.270005</td>\n",
       "      <td>0.174769</td>\n",
       "    </tr>\n",
       "    <tr>\n",
       "      <th>378659</th>\n",
       "      <td>-0.026414</td>\n",
       "      <td>-0.972710</td>\n",
       "      <td>-0.333803</td>\n",
       "      <td>1.268856</td>\n",
       "      <td>1.405222</td>\n",
       "      <td>0.506853</td>\n",
       "      <td>0.502239</td>\n",
       "      <td>-0.680082</td>\n",
       "      <td>-0.052817</td>\n",
       "    </tr>\n",
       "    <tr>\n",
       "      <th>378660</th>\n",
       "      <td>-0.037690</td>\n",
       "      <td>0.467238</td>\n",
       "      <td>0.064049</td>\n",
       "      <td>0.382107</td>\n",
       "      <td>-1.924087</td>\n",
       "      <td>0.506853</td>\n",
       "      <td>0.502239</td>\n",
       "      <td>-0.115171</td>\n",
       "      <td>-0.098334</td>\n",
       "    </tr>\n",
       "  </tbody>\n",
       "</table>\n",
       "<p>378661 rows × 9 columns</p>\n",
       "</div>"
      ],
      "text/plain": [
       "        usd_goal_real  word_count  uppercase_count  category  main_category  \\\n",
       "0           -0.038094    0.107251        -0.333803  0.603794       1.149121   \n",
       "1           -0.013404    0.827225         1.257605  0.271263      -0.387483   \n",
       "2           -0.000394   -0.972710        -0.731655  0.271263      -0.387483   \n",
       "3           -0.035088    0.467238         0.262975  0.204757       0.636920   \n",
       "4           -0.022511    0.827225         0.262975 -0.571149      -0.387483   \n",
       "...               ...         ...              ...       ...            ...   \n",
       "378656       0.003943    0.107251         0.064049 -0.925849      -0.387483   \n",
       "378657      -0.038123   -1.332697        -0.731655  0.271263      -0.387483   \n",
       "378658      -0.026414    1.907186        -0.134877  0.271263      -0.387483   \n",
       "378659      -0.026414   -0.972710        -0.333803  1.268856       1.405222   \n",
       "378660      -0.037690    0.467238         0.064049  0.382107      -1.924087   \n",
       "\n",
       "        currency   country      name  duration  \n",
       "0      -1.521145 -1.570995 -0.240707  0.372011  \n",
       "1       0.506853  0.502239  0.638042  0.387183  \n",
       "2       0.506853  0.502239 -1.307760  0.159597  \n",
       "3       0.506853  0.502239  0.889114 -0.067989  \n",
       "4       0.506853  0.502239  1.454024  0.326493  \n",
       "...          ...       ...       ...       ...  \n",
       "378656  0.506853  0.502239  0.889114 -0.067989  \n",
       "378657  0.506853  0.502239 -1.621599 -0.113507  \n",
       "378658  0.506853  0.502239  2.270005  0.174769  \n",
       "378659  0.506853  0.502239 -0.680082 -0.052817  \n",
       "378660  0.506853  0.502239 -0.115171 -0.098334  \n",
       "\n",
       "[378661 rows x 9 columns]"
      ]
     },
     "execution_count": 83,
     "metadata": {},
     "output_type": "execute_result"
    }
   ],
   "source": [
    "X"
   ]
  },
  {
   "cell_type": "code",
   "execution_count": 82,
   "metadata": {},
   "outputs": [],
   "source": [
    "arr = ['usd_goal_real', 'word_count', 'uppercase_count', 'category', 'main_category', 'currency', 'name', 'duration', 'country']\n",
    "for i in arr:\n",
    "    scaler = StandardScaler()\n",
    "    X[[i]] = scaler.fit_transform(X[[i]])\n"
   ]
  },
  {
   "cell_type": "code",
   "execution_count": null,
   "metadata": {},
   "outputs": [],
   "source": []
  }
 ],
 "metadata": {
  "kernelspec": {
   "display_name": "Python 3",
   "language": "python",
   "name": "python3"
  },
  "language_info": {
   "codemirror_mode": {
    "name": "ipython",
    "version": 3
   },
   "file_extension": ".py",
   "mimetype": "text/x-python",
   "name": "python",
   "nbconvert_exporter": "python",
   "pygments_lexer": "ipython3",
   "version": "3.7.6"
  }
 },
 "nbformat": 4,
 "nbformat_minor": 4
}
